{
 "cells": [
  {
   "cell_type": "code",
   "execution_count": 1,
   "metadata": {},
   "outputs": [],
   "source": [
    "import numpy as np # linear algebra\n",
    "import pandas as pd # data processing, CSV file I/O (e.g. pd.read_csv)\n",
    "import pickle\n",
    "#import keras\n",
    "\n",
    "from sklearn import svm\n",
    "import random\n",
    "import os\n",
    "from math import floor\n",
    "import warnings\n",
    "\n",
    "from sklearn.preprocessing import StandardScaler, MinMaxScaler"
   ]
  },
  {
   "cell_type": "code",
   "execution_count": 2,
   "metadata": {},
   "outputs": [],
   "source": [
    "# If you want to train the model by yourself\n",
    "\n",
    "# train data\n",
    "with open('train_data.pickle', 'rb') as f:\n",
    "    Data = pickle.load(f)\n",
    "    Data = pd.DataFrame(Data)\n",
    "\n",
    "numtrain = 1012 * 6 * 12\n",
    "numval = int(numtrain * 0.2)\n",
    "\n",
    "\n",
    "# Train validation split\n",
    "idx = random.sample(range(numtrain), numval) # 80% for training\n",
    "all_index = list(np.setdiff1d(range(numtrain), idx))\n",
    "\n",
    "# Getting X_train, X_val, y_train and scale them\n",
    "\n",
    "X_train = Data.iloc[all_index,:].drop(2251, axis = 1)\n",
    "X_val = Data.iloc[idx,:].drop(2251, axis = 1)\n",
    "y_train = pd.get_dummies(Data.iloc[all_index,:][2251])\n",
    "#print(y_train)\n",
    "\n",
    "names = y_train.columns\n",
    "mapping = {}\n",
    "i = 0\n",
    "for n in names:\n",
    "    mapping[i] = n\n",
    "    i+=1\n",
    "#print(mapping)\n",
    "\n",
    "y_train = Data.iloc[all_index,:][2251]\n",
    "\n",
    "scaler = MinMaxScaler()\n",
    "X_train = scaler.fit_transform(X_train)\n",
    "X_val = scaler.transform(X_val)"
   ]
  },
  {
   "cell_type": "code",
   "execution_count": 3,
   "metadata": {},
   "outputs": [
    {
     "name": "stderr",
     "output_type": "stream",
     "text": [
      "C:\\Users\\Hong\\Anaconda3\\envs\\tensorflow_gpu_1.12_py37\\lib\\site-packages\\sklearn\\linear_model\\logistic.py:432: FutureWarning: Default solver will be changed to 'lbfgs' in 0.22. Specify a solver to silence this warning.\n",
      "  FutureWarning)\n",
      "C:\\Users\\Hong\\Anaconda3\\envs\\tensorflow_gpu_1.12_py37\\lib\\site-packages\\sklearn\\linear_model\\logistic.py:469: FutureWarning: Default multi_class will be changed to 'auto' in 0.22. Specify the multi_class option to silence this warning.\n",
      "  \"this warning.\", FutureWarning)\n"
     ]
    },
    {
     "data": {
      "text/plain": [
       "LogisticRegression(C=1.0, class_weight=None, dual=False, fit_intercept=True,\n",
       "                   intercept_scaling=1, l1_ratio=None, max_iter=100,\n",
       "                   multi_class='warn', n_jobs=None, penalty='l2',\n",
       "                   random_state=None, solver='warn', tol=0.0001, verbose=0,\n",
       "                   warm_start=False)"
      ]
     },
     "execution_count": 3,
     "metadata": {},
     "output_type": "execute_result"
    }
   ],
   "source": [
    "from sklearn.linear_model import LogisticRegression\n",
    "model = LogisticRegression(penalty='l2')\n",
    "model.fit(X_train, y_train)"
   ]
  },
  {
   "cell_type": "code",
   "execution_count": 4,
   "metadata": {},
   "outputs": [
    {
     "name": "stdout",
     "output_type": "stream",
     "text": [
      "['PUQDIQ', 'TEDHAN', 'VUDPIV', 'NODTEH', 'FOHJAP', 'MIBMER', 'DIRPIF', 'QOLKOR', 'RUBTAK', 'OXALAB', 'BUYNAL']\n",
      "['PUQDIQ', 'TEDHAN', 'VUDPIV', 'FOHJAP', 'MIBMER', 'NODTEH', 'QOLKOR', 'DIRPIF', 'RUBTAK', 'TUQSII', 'OXALAB']\n",
      "['TEDHAN', 'PUQDIQ', 'VUDPIV', 'FOHJAP', 'MIBMER', 'DIRPIF', 'QOLKOR', 'NODTEH', 'RUBTAK', 'BUYNAL', 'ODIXAC']\n",
      "['MARFIW', 'GOSSEM01', 'TEDHAN', 'SIJPAD', 'HEGCEB', 'GEPYIK', 'EQOYIS', 'QUPJAO', 'TIXXOP', 'DUT-12', 'AGOVID']\n",
      "['GOSSEM01', 'HEGCEB', 'TEDHAN', 'MARFIW', 'SIJPAD', 'QUPJAO', 'GEPYIK', 'EQOYIS', 'BOHYCU', 'TIXXOP', 'AGOVID']\n",
      "['GOSSEM01', 'HEGCEB', 'TEDHAN', 'MARFIW', 'SIJPAD', 'GEPYIK', 'EQOYIS', 'QUPJAO', 'BOHYCU', 'TIXXOP', 'DUT-12']\n",
      "['FUDGOC', 'ZIF-90', 'ROJYEW', 'ZIF-8', 'LAYRIM', 'ZIF-65', 'NATBAL', 'CUFFEP', 'JEJWOL', 'TUQSII', 'DUKQAC02']\n",
      "['FUDGOC', 'LAYRIM', 'NATBAL', 'ZIF-90', 'TUQSII', 'ZIF-8', 'CUFFEP', 'JEJWOL', 'XUGROI', 'QOHKEE', 'MESTOU']\n",
      "['QIJLAW', 'LAYRIM', 'TUQSII', 'NATBAL', 'FUDGOC', 'JEJWOL', 'CUFFEP', 'XUGROI', 'QOHKEE', 'MOXDOT', 'PODKUQ']\n",
      "['FUDGOC', 'LAYRIM', 'CUFFEP', 'NATBAL', 'TUQSII', 'QOHKEE', 'XUGROI', 'ZIF-90', 'ZIF-8', 'MESTOU', 'JEJWOL']\n",
      "['FUDGOC', 'MOXDOT', 'ZIF-90', 'DUKQAC02', 'JEJWOL', 'PEVQAK', 'LAYRIM', 'ZOZPUB', 'PIZJEN', 'QIJLAW', 'QOHKEE']\n",
      "['FUDGOC', 'ZIF-90', 'LAYRIM', 'NATBAL', 'CUFFEP', 'TUQSII', 'QOHKEE', 'MESTOU', 'XUGROI', 'DUKQAC02', 'JEJWOL']\n",
      "['ZIF-7', 'NODTEH', 'TUQSII', 'VUDPIV', 'XUGROI', 'QIJLAW', 'PUQDIQ', 'WAQFAX', 'EBEWOZ', 'OXALAB', 'ZIF-9']\n",
      "['ZIF-7', 'VUDPIV', 'NODTEH', 'TUQSII', 'PUQDIQ', 'OXALAB', 'FOHJAP', 'EBEWOZ', 'ZIF-71', 'MIBMER', 'XUGROI']\n",
      "['ZIF-7', 'TUQSII', 'NODTEH', 'XUGROI', 'VUDPIV', 'EBEWOZ', 'QIJLAW', 'PUQDIQ', 'OXALAB', 'ZIF-71', 'ZIF-12']\n",
      "['WAQFAX', 'HEGCEB', 'LOTMOY01', 'MOXDOT', 'KOZVOM', 'DEMMOY', 'LIQSEK', 'QUPJAO', 'TEJVOV', 'TOWNAW', 'JOCLAP']\n",
      "['HIPZAJ', 'MOXDOT', 'RASGAT', 'ZUJKAS', 'OMORUE', 'DAVVAZ', 'XANLUV', 'XOPHUG', 'MONLOQ', 'NIMJUP', 'GIKJER']\n",
      "['MOXDOT', 'HIPZAJ', 'HEGCEB', 'KOZVOM', 'DAVVAZ', 'GOSSEM01', 'LOTMOY02', 'WAQFAX', 'XAYMUF', 'XUGROI', 'BUYNAL']\n",
      "['VAQBIY02', 'KIDGOT', 'MITSAK', 'JOCLAP', 'DAKVOC', 'NIDDIP', 'SUPZAG', 'OVEDUP', 'SAZCED', 'LUYNAU', 'UCOPUZ']\n",
      "['EMITOK', 'ZEDGEW', 'MESTOU', 'MOF-5', 'ICALOP', 'LAWGEW', 'XANXUF', 'DAVVAZ', 'JOCLAP', 'UFIRIM', 'FORKUU']\n",
      "['EMITOK', 'JOCLAP', 'QIJLAW', 'HIGMOA', 'UKEXIS', 'UHAXUW', 'ZIF-74', 'JOKYEN10', 'IGAVUJ', 'KUWCEM', 'JEJWOL']\n",
      "['NERLOL', 'HOJJOH', 'MAHSOE', 'QIJLAW', 'QAZLIO', 'RAFRAS', 'VUJLET', 'NEFZII', 'QEQBEU', 'CUDPOI', 'GEPYIK']\n",
      "['NAYJEE', 'NERLOL', 'QEQBEU', 'VUJLET', 'VOZVAJ01', 'RAFRAS', 'RUGXIC', 'NEFZII', 'DAVVAZ', 'HOJJOH', 'REGREC']\n",
      "['NERLOL', 'VUJLET', 'QEQBEU', 'NEFZII', 'NAYJEE', 'RAFRAS', 'NIDDIP', 'VOZVAJ01', 'HOJJOH', 'DANQIS', 'RUGXIC']\n",
      "['HOJJOH', 'RUGXIC', 'VOZVAJ01', 'NEFZII', 'TOVJIX', 'SIBCOV', 'PUSXIL01', 'DEMMOY', 'QIJLAW', 'QOTVIF', 'NIDDIP']\n",
      "['SIBCOV', 'NEFZII', 'TOVJIX', 'VOZVAJ01', 'HOJJOH', 'PUSXIL01', 'QIJLAW', 'AGOFEJ', 'DEMMOY', 'MAHSOE', 'RUGXIC']\n",
      "['SIBCOV', 'NEFZII', 'TOVJIX', 'QIJLAW', 'PUSXIL01', 'HOJJOH', 'RUGXIC', 'DEYNUR', 'FALJEJ', 'JEJWOL', 'NEXVET']\n",
      "['GIKJER', 'MOF-2', 'CEQFOB', 'LOSCON', 'GOSSEM01', 'PUFYEW', 'NUKTIM', 'PUTYEI', 'NEDWIE', 'GURFIJ', 'LADQEM01']\n",
      "['CEQFOB', 'MOF-2', 'GIKJER', 'LOSCON', 'GOSSEM01', 'PUTYEI', 'PUFYEW', 'GURFIJ', 'ILAKUC', 'NEDWIE', 'HAJZOJ']\n",
      "['MOF-2', 'GIKJER', 'CEQFOB', 'LOSCON', 'GOSSEM01', 'PUFYEW', 'PUTYEI', 'GURFIJ', 'NEDWIE', 'ILAKUC', 'LADQEM01']\n"
     ]
    }
   ],
   "source": [
    "Test = pd.read_csv('test_data_30.csv')\n",
    "Test_filter = Test.fillna(method='ffill')\n",
    "\n",
    "X_test = scaler.transform(Test_filter.iloc[:,1:])\n",
    "#pred = clf.predict(X_test)\n",
    "\n",
    "probas = model.predict_proba(X_test)\n",
    "top_n_predictions = np.argsort(probas, axis = 1)[:,-11:]\n",
    "\n",
    "result = []\n",
    "for pre in top_n_predictions:\n",
    "    pre_list = []\n",
    "    for index in pre:\n",
    "        pre_list.append(mapping[index])\n",
    "    result.append(pre_list)\n",
    "\n",
    "    \n",
    "for plist in result:\n",
    "    plist.reverse()\n",
    "    print(plist)"
   ]
  },
  {
   "cell_type": "code",
   "execution_count": 5,
   "metadata": {},
   "outputs": [
    {
     "name": "stdout",
     "output_type": "stream",
     "text": [
      "['PUQDIQ', 'TEDHAN', 'VUDPIV', 'NODTEH', 'FOHJAP']\n",
      "['PUQDIQ', 'TEDHAN', 'VUDPIV', 'FOHJAP', 'MIBMER']\n",
      "['TEDHAN', 'PUQDIQ', 'VUDPIV', 'FOHJAP', 'MIBMER']\n",
      "['MARFIW', 'GOSSEM01', 'TEDHAN', 'SIJPAD', 'HEGCEB']\n",
      "['GOSSEM01', 'HEGCEB', 'TEDHAN', 'MARFIW', 'SIJPAD']\n",
      "['GOSSEM01', 'HEGCEB', 'TEDHAN', 'MARFIW', 'SIJPAD']\n",
      "['FUDGOC', 'ZIF-90', 'ROJYEW', 'ZIF-8', 'LAYRIM']\n",
      "['FUDGOC', 'LAYRIM', 'NATBAL', 'ZIF-90', 'TUQSII']\n",
      "['QIJLAW', 'LAYRIM', 'TUQSII', 'NATBAL', 'FUDGOC']\n",
      "['FUDGOC', 'LAYRIM', 'CUFFEP', 'NATBAL', 'TUQSII']\n",
      "['FUDGOC', 'MOXDOT', 'ZIF-90', 'DUKQAC02', 'JEJWOL']\n",
      "['FUDGOC', 'ZIF-90', 'LAYRIM', 'NATBAL', 'CUFFEP']\n",
      "['ZIF-7', 'NODTEH', 'TUQSII', 'VUDPIV', 'XUGROI']\n",
      "['ZIF-7', 'VUDPIV', 'NODTEH', 'TUQSII', 'PUQDIQ']\n",
      "['ZIF-7', 'TUQSII', 'NODTEH', 'XUGROI', 'VUDPIV']\n",
      "['WAQFAX', 'HEGCEB', 'LOTMOY01', 'MOXDOT', 'KOZVOM']\n",
      "['HIPZAJ', 'MOXDOT', 'RASGAT', 'ZUJKAS', 'OMORUE']\n",
      "['MOXDOT', 'HIPZAJ', 'HEGCEB', 'KOZVOM', 'DAVVAZ']\n",
      "['VAQBIY02', 'KIDGOT', 'MITSAK', 'JOCLAP', 'DAKVOC']\n",
      "['EMITOK', 'ZEDGEW', 'MESTOU', 'MOF-5', 'ICALOP']\n",
      "['EMITOK', 'JOCLAP', 'QIJLAW', 'HIGMOA', 'UKEXIS']\n",
      "['NERLOL', 'HOJJOH', 'MAHSOE', 'QIJLAW', 'QAZLIO']\n",
      "['NAYJEE', 'NERLOL', 'QEQBEU', 'VUJLET', 'VOZVAJ01']\n",
      "['NERLOL', 'VUJLET', 'QEQBEU', 'NEFZII', 'NAYJEE']\n",
      "['HOJJOH', 'RUGXIC', 'VOZVAJ01', 'NEFZII', 'TOVJIX']\n",
      "['SIBCOV', 'NEFZII', 'TOVJIX', 'VOZVAJ01', 'HOJJOH']\n",
      "['SIBCOV', 'NEFZII', 'TOVJIX', 'QIJLAW', 'PUSXIL01']\n",
      "['GIKJER', 'MOF-2', 'CEQFOB', 'LOSCON', 'GOSSEM01']\n",
      "['CEQFOB', 'MOF-2', 'GIKJER', 'LOSCON', 'GOSSEM01']\n",
      "['MOF-2', 'GIKJER', 'CEQFOB', 'LOSCON', 'GOSSEM01']\n"
     ]
    }
   ],
   "source": [
    "top_n_predictions = np.argsort(probas, axis = 1)[:,-5:]\n",
    "\n",
    "result = []\n",
    "for pre in top_n_predictions:\n",
    "    pre_list = []\n",
    "    for index in pre:\n",
    "        pre_list.append(mapping[index])\n",
    "    result.append(pre_list)\n",
    "\n",
    "    \n",
    "for plist in result:\n",
    "    plist.reverse()\n",
    "    print(plist)"
   ]
  },
  {
   "cell_type": "code",
   "execution_count": 6,
   "metadata": {},
   "outputs": [
    {
     "name": "stdout",
     "output_type": "stream",
     "text": [
      "top1 accuracy:0.13333333333333333\n",
      "4\n",
      "top2 accuracy:0.23333333333333334\n",
      "7\n",
      "top3 accuracy:0.26666666666666666\n",
      "8\n",
      "top4 accuracy:0.3333333333333333\n",
      "10\n",
      "top5 accuracy:0.3333333333333333\n",
      "10\n"
     ]
    }
   ],
   "source": [
    "for i in range(1,6):    \n",
    "    top_n_predictions = np.argsort(probas, axis = 1)[:,-i:]\n",
    "\n",
    "    result = []\n",
    "    for pre in top_n_predictions:\n",
    "        pre_list = []\n",
    "        for index in pre:\n",
    "            pre_list.append(mapping[index])\n",
    "        result.append(pre_list)\n",
    "\n",
    "    \n",
    "    count = 0\n",
    "    for p in result[:3]:\n",
    "        if 'ZIF-67' in p:\n",
    "            count += 1\n",
    "    for p in result[3:6]:\n",
    "        if 'ZIF-71' in p:\n",
    "            count += 1\n",
    "    for p in result[6:9]:\n",
    "        if 'ZIF-8' in p:\n",
    "            count += 1\n",
    "    for p in result[9:12]:\n",
    "        if 'ZIF-90' in p:\n",
    "            count += 1\n",
    "    for p in result[12:15]:\n",
    "        if 'ZIF-7' in p:\n",
    "            count += 1\n",
    "    for p in result[15:18]:\n",
    "        if 'ZIF-9' in p:\n",
    "            count += 1\n",
    "    for p in result[18:21]:\n",
    "        if 'MOF-5' in p:\n",
    "            count += 1\n",
    "    for p in result[21:24]:\n",
    "        if 'MOF-74' in p:\n",
    "            count += 1\n",
    "    for p in result[24:27]:\n",
    "        if 'MOF-199' in p:\n",
    "            count += 1\n",
    "    for p in result[27:30]:\n",
    "        if 'MOF-2' in p:\n",
    "            count += 1\n",
    "\n",
    "    accuracy = count/30\n",
    "    print('top' + str(i) + ' ' + 'accuracy:' +str(accuracy))\n",
    "    print(count)"
   ]
  },
  {
   "cell_type": "code",
   "execution_count": null,
   "metadata": {},
   "outputs": [],
   "source": []
  }
 ],
 "metadata": {
  "kernelspec": {
   "display_name": "Python 3",
   "language": "python",
   "name": "python3"
  },
  "language_info": {
   "codemirror_mode": {
    "name": "ipython",
    "version": 3
   },
   "file_extension": ".py",
   "mimetype": "text/x-python",
   "name": "python",
   "nbconvert_exporter": "python",
   "pygments_lexer": "ipython3",
   "version": "3.7.3"
  }
 },
 "nbformat": 4,
 "nbformat_minor": 2
}
