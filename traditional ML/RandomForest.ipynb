{
 "cells": [
  {
   "cell_type": "code",
   "execution_count": 1,
   "metadata": {},
   "outputs": [],
   "source": [
    "import numpy as np # linear algebra\n",
    "import pandas as pd # data processing, CSV file I/O (e.g. pd.read_csv)\n",
    "import pickle\n",
    "#import keras\n",
    "\n",
    "from sklearn import svm\n",
    "import random\n",
    "import os\n",
    "from math import floor\n",
    "import warnings\n",
    "\n",
    "from sklearn.preprocessing import StandardScaler, MinMaxScaler"
   ]
  },
  {
   "cell_type": "code",
   "execution_count": 2,
   "metadata": {},
   "outputs": [],
   "source": [
    "# If you want to train the model by yourself\n",
    "\n",
    "# train data\n",
    "with open('train_data.pickle', 'rb') as f:\n",
    "    Data = pickle.load(f)\n",
    "    Data = pd.DataFrame(Data)\n",
    "\n",
    "numtrain = 1012 * 6 * 12\n",
    "numval = int(numtrain * 0.2)\n",
    "\n",
    "\n",
    "# Train validation split\n",
    "idx = random.sample(range(numtrain), numval) # 80% for training\n",
    "all_index = list(np.setdiff1d(range(numtrain), idx))\n",
    "\n",
    "# Getting X_train, X_val, y_train and scale them\n",
    "\n",
    "X_train = Data.iloc[all_index,:].drop(2251, axis = 1)\n",
    "X_val = Data.iloc[idx,:].drop(2251, axis = 1)\n",
    "y_train = pd.get_dummies(Data.iloc[all_index,:][2251])\n",
    "#print(y_train)\n",
    "\n",
    "names = y_train.columns\n",
    "mapping = {}\n",
    "i = 0\n",
    "for n in names:\n",
    "    mapping[i] = n\n",
    "    i+=1\n",
    "#print(mapping)\n",
    "\n",
    "y_train = Data.iloc[all_index,:][2251]\n",
    "\n",
    "scaler = MinMaxScaler()\n",
    "X_train = scaler.fit_transform(X_train)\n",
    "X_val = scaler.transform(X_val)"
   ]
  },
  {
   "cell_type": "code",
   "execution_count": 3,
   "metadata": {},
   "outputs": [
    {
     "data": {
      "text/plain": [
       "RandomForestClassifier(bootstrap=True, class_weight=None, criterion='gini',\n",
       "                       max_depth=None, max_features='auto', max_leaf_nodes=None,\n",
       "                       min_impurity_decrease=0.0, min_impurity_split=None,\n",
       "                       min_samples_leaf=1, min_samples_split=2,\n",
       "                       min_weight_fraction_leaf=0.0, n_estimators=100,\n",
       "                       n_jobs=None, oob_score=False, random_state=None,\n",
       "                       verbose=0, warm_start=False)"
      ]
     },
     "execution_count": 3,
     "metadata": {},
     "output_type": "execute_result"
    }
   ],
   "source": [
    "from sklearn.ensemble import RandomForestClassifier\n",
    "model = RandomForestClassifier(n_estimators=100)\n",
    "model.fit(X_train, y_train)\n"
   ]
  },
  {
   "cell_type": "code",
   "execution_count": 4,
   "metadata": {
    "scrolled": true
   },
   "outputs": [
    {
     "name": "stdout",
     "output_type": "stream",
     "text": [
      "['COMXUZ', 'BUBWEC', 'QOLKOR', 'IFEJUZ', 'JARMEU10', 'HIPZAJ', 'ZIF-71', 'MARFIW', 'PYDSCU10', 'TEDHAN', 'JARMEU']\n",
      "['QOLKOR', 'IFEJUZ', 'BUBWEC', 'JARMEU', 'TEDHAN', 'JARMEU10', 'HIPZAJ', 'MARFIW', 'ZIF-71', 'BIYFAR', 'RARBES']\n",
      "['BUBWEC', 'IFEJUZ', 'QOLKOR', 'COMXUZ', 'TEDHAN', 'HIPZAJ', 'JARMEU10', 'MARFIW', 'ZIF-71', 'JARMEU', 'BAXQAU']\n",
      "['LIQDAS', 'BOHYCU', 'GEPYIK', 'HEGCEB', 'ZIF-73', 'REJPIH', 'LIKRAZ', 'NOHSOU', 'QUPJAO', 'ZIF-9', 'MARFIW']\n",
      "['LIQDAS', 'BOHYCU', 'HEGCEB', 'GEPYIK', 'REJPIH', 'ZIF-73', 'LIKRAZ', 'NOHSOU', 'PUQDIQ', 'TEDHAN', 'MIXBEC']\n",
      "['LIQDAS', 'BOHYCU', 'GEPYIK', 'HEGCEB', 'REJPIH', 'ZIF-73', 'NOHSOU', 'ZIF-9', 'TEDHAN', 'PUQDIQ', 'MARFIW']\n",
      "['ROJYEW', 'JUMDAY', 'GOSSEM', 'TIHWEM', 'XAYMUF', 'ZIF-90', 'XUGROI', 'DUT-23', 'PUZMED', 'FUDGOC', 'VAMXEO01']\n",
      "['ROJYEW', 'TIHWEM', 'GOSSEM', 'JUMDAY', 'XUGROI', 'FUDGOC', 'XAYMUF', 'DUT-23', 'ZIF-90', 'VAMXEO01', 'YOZNAE']\n",
      "['JUMDAY', 'MOXDOT', 'FUDGOC', 'TUQSII', 'TIHWEM', 'XUGROI', 'CORZOA', 'ZIF-90', 'VAMXEO01', 'PUFQUE', 'QOHKEE']\n",
      "['TIHWEM', 'JUMDAY', 'ZIF-90', 'FUDGOC', 'XUGROI', 'VAMXEO01', 'CORZOA', 'DUT-23', 'GOSSEM', 'ROJYEW', 'MESTOU']\n",
      "['JUMDAY', 'FUDGOC', 'ZOZPUB', 'TIHWEM', 'TEFWIL', 'MOXDOT', 'AFOYAW', 'FURVEU', 'IVESOS', 'XABKIW01', 'DUT-23']\n",
      "['TIHWEM', 'JUMDAY', 'ZIF-90', 'FUDGOC', 'VAMXEO01', 'GOSSEM', 'XUGROI', 'XAYMUF', 'CORZOA', 'TUQSII', 'MESTOU']\n",
      "['RARBES', 'IFEJUZ', 'TEDHAN', 'HIPZAJ', 'FOHJAP', 'WIPNEO01', 'VUDPIV', 'QOLKOR', 'ZEDYEO', 'SOBTUA', 'NASZOW']\n",
      "['RARBES', 'IFEJUZ', 'HIPZAJ', 'FOHJAP', 'JARMEU', 'QOLKOR', 'TEDHAN', 'NASZOW', 'VUDPIV', 'ZEDYEO', 'BUBWEC']\n",
      "['QOLKOR', 'TEDHAN', 'BIYFAR', 'NASZOW', 'DEDQAF', 'ZIF-71', 'ODIXAC', 'FOHJAP', 'DIRPIF', 'VUDPIV', 'JARMEU']\n",
      "['NIMJUP', 'GOSSEM01', 'RASGAT', 'XUNXOU01', 'DEYKOJ01', 'FEWBUG', 'GURFIJ', 'YEGWAK', 'MEHMET', 'LIKRAZ', 'NIJTOP01']\n",
      "['MONLOQ', 'ZUJKAS', 'GURFIJ', 'XOPHUG', 'OMORUE', 'LOTMOY02', 'GIKJER', 'NIJTOP01', 'IBUHUK', 'EXEHEV02', 'NIMJUP']\n",
      "['MONLOQ', 'ZUJKAS', 'LOTMOY02', 'NIJTOP01', 'GURFIJ', 'XOPHUG', 'OMORUE', 'OVOBOR', 'IBUHUK', 'NIMJUP', 'MAHYID']\n",
      "['VUVPOR', 'UCOPUZ', 'SUPZAG', 'QAYTOZ', 'AGOVID', 'UNEQUA', 'KIDGOT', 'MITSAK', 'MAKTUP', 'DECBIY', 'OVEDUP']\n",
      "['MOF-74', 'FORKUU', 'ZIF-81', 'LAWGOG', 'DOHCUA', 'BUSNOU', 'ZEDGEW', 'ZIF-69', 'QUQPOI', 'LAYRIM', 'ZIF-62']\n",
      "['WABVIF04', 'VUVPOR', 'WABWAY', 'XAFFIV', 'UGUTOF', 'MOWNUI', 'NOYNIU', 'IGOFER', 'VIFFOG', 'COJHIT', 'JOKYEN']\n",
      "['RAFRAS', 'NEFZII', 'HOJJOH', 'REGREC', 'CUDPOI', 'ZIF-3', 'HOCHAI', 'KAMZUV', 'QAZLIO', 'TISNAM', 'SOLMUD']\n",
      "['HOCHAI', 'ENISUQ', 'KAMZUV', 'VOZVAJ01', 'REGREC', 'SOHNAF', 'RUGXIC', 'CUDPOI', 'RAFRAS', 'SOLMUD', 'LOTMOY01']\n",
      "['NEFZII', 'ZIF-3', 'RAFRAS', 'QEQBEU', 'FOHFEO', 'ZIF-10', 'REGREC', 'HOJJOH', 'QAZLIO', 'FAYPIG', 'VOZVAJ01']\n",
      "['AJOKUF', 'RUGXIC', 'QOJVAM', 'PAZSOZ', 'LATFUI', 'VOZVAJ01', 'FALJEJ', 'NAYJEE', 'PEYRES', 'ZIF-72', 'RIWGEL']\n",
      "['AJOKUF', 'PUSXIL01', 'SIBCOV', 'RUGXIC', 'FALJEJ', 'PAZSOZ', 'QOJVAM', 'EXEHEV', 'NEVVAN', 'IBIGOR', 'FUMGOL']\n",
      "['SIBCOV', 'AJOKUF', 'PUSXIL01', 'FALJEJ', 'RUGXIC', 'PAZSOZ', 'TALJAS', 'VICJEY', 'NAYJEE', 'VOZVAJ01', 'FUMGOL']\n",
      "['ZIF-4', 'NEDWIE', 'METPAC', 'PUTYEI', 'ONESAC', 'OBEZAX', 'PEYRES', 'ZUMWUZ', 'IDIWIB', 'LOSCON', 'ZUYWAR']\n",
      "['ZIF-4', 'NEDWIE', 'PUTYEI', 'METPAC', 'GIYJAB', 'ONESAC', 'PEYRES', 'ZUMWUZ', 'IDIWIB', 'LOSCON', 'OBEZAX']\n",
      "['ZIF-4', 'PUTYEI', 'LEJCAG', 'IDIWIB', 'LOSCON', 'PEYRES', 'ZUYWAR', 'ZUMWUZ', 'VINHIL', 'CITHOD', 'NEDWIE']\n"
     ]
    }
   ],
   "source": [
    "Test = pd.read_csv('test_data_30.csv')\n",
    "Test_filter = Test.fillna(method='ffill')\n",
    "\n",
    "X_test = scaler.transform(Test_filter.iloc[:,1:])\n",
    "#pred = clf.predict(X_test)\n",
    "\n",
    "probas = model.predict_proba(X_test)\n",
    "top_n_predictions = np.argsort(probas, axis = 1)[:,-11:]\n",
    "\n",
    "result = []\n",
    "for pre in top_n_predictions:\n",
    "    pre_list = []\n",
    "    for index in pre:\n",
    "        pre_list.append(mapping[index])\n",
    "    result.append(pre_list)\n",
    "\n",
    "    \n",
    "for plist in result:\n",
    "    plist.reverse()\n",
    "    print(plist)"
   ]
  },
  {
   "cell_type": "code",
   "execution_count": 5,
   "metadata": {},
   "outputs": [
    {
     "name": "stdout",
     "output_type": "stream",
     "text": [
      "['COMXUZ', 'BUBWEC', 'QOLKOR', 'IFEJUZ', 'JARMEU10']\n",
      "['QOLKOR', 'IFEJUZ', 'BUBWEC', 'JARMEU', 'TEDHAN']\n",
      "['BUBWEC', 'IFEJUZ', 'QOLKOR', 'COMXUZ', 'TEDHAN']\n",
      "['LIQDAS', 'BOHYCU', 'GEPYIK', 'HEGCEB', 'ZIF-73']\n",
      "['LIQDAS', 'BOHYCU', 'HEGCEB', 'GEPYIK', 'REJPIH']\n",
      "['LIQDAS', 'BOHYCU', 'GEPYIK', 'HEGCEB', 'REJPIH']\n",
      "['ROJYEW', 'JUMDAY', 'GOSSEM', 'TIHWEM', 'XAYMUF']\n",
      "['ROJYEW', 'TIHWEM', 'GOSSEM', 'JUMDAY', 'XUGROI']\n",
      "['JUMDAY', 'MOXDOT', 'FUDGOC', 'TUQSII', 'TIHWEM']\n",
      "['TIHWEM', 'JUMDAY', 'ZIF-90', 'FUDGOC', 'XUGROI']\n",
      "['JUMDAY', 'FUDGOC', 'ZOZPUB', 'TIHWEM', 'TEFWIL']\n",
      "['TIHWEM', 'JUMDAY', 'ZIF-90', 'FUDGOC', 'VAMXEO01']\n",
      "['RARBES', 'IFEJUZ', 'TEDHAN', 'HIPZAJ', 'FOHJAP']\n",
      "['RARBES', 'IFEJUZ', 'HIPZAJ', 'FOHJAP', 'JARMEU']\n",
      "['QOLKOR', 'TEDHAN', 'BIYFAR', 'NASZOW', 'DEDQAF']\n",
      "['NIMJUP', 'GOSSEM01', 'RASGAT', 'XUNXOU01', 'DEYKOJ01']\n",
      "['MONLOQ', 'ZUJKAS', 'GURFIJ', 'XOPHUG', 'OMORUE']\n",
      "['MONLOQ', 'ZUJKAS', 'LOTMOY02', 'NIJTOP01', 'GURFIJ']\n",
      "['VUVPOR', 'UCOPUZ', 'SUPZAG', 'QAYTOZ', 'AGOVID']\n",
      "['MOF-74', 'FORKUU', 'ZIF-81', 'LAWGOG', 'DOHCUA']\n",
      "['WABVIF04', 'VUVPOR', 'WABWAY', 'XAFFIV', 'UGUTOF']\n",
      "['RAFRAS', 'NEFZII', 'HOJJOH', 'REGREC', 'CUDPOI']\n",
      "['HOCHAI', 'ENISUQ', 'KAMZUV', 'VOZVAJ01', 'REGREC']\n",
      "['NEFZII', 'ZIF-3', 'RAFRAS', 'QEQBEU', 'FOHFEO']\n",
      "['AJOKUF', 'RUGXIC', 'QOJVAM', 'PAZSOZ', 'LATFUI']\n",
      "['AJOKUF', 'PUSXIL01', 'SIBCOV', 'RUGXIC', 'FALJEJ']\n",
      "['SIBCOV', 'AJOKUF', 'PUSXIL01', 'FALJEJ', 'RUGXIC']\n",
      "['ZIF-4', 'NEDWIE', 'METPAC', 'PUTYEI', 'ONESAC']\n",
      "['ZIF-4', 'NEDWIE', 'PUTYEI', 'METPAC', 'GIYJAB']\n",
      "['ZIF-4', 'PUTYEI', 'LEJCAG', 'IDIWIB', 'LOSCON']\n"
     ]
    }
   ],
   "source": [
    "top_n_predictions = np.argsort(probas, axis = 1)[:,-5:]\n",
    "\n",
    "result = []\n",
    "for pre in top_n_predictions:\n",
    "    pre_list = []\n",
    "    for index in pre:\n",
    "        pre_list.append(mapping[index])\n",
    "    result.append(pre_list)\n",
    "\n",
    "    \n",
    "for plist in result:\n",
    "    plist.reverse()\n",
    "    print(plist)"
   ]
  },
  {
   "cell_type": "code",
   "execution_count": 6,
   "metadata": {},
   "outputs": [
    {
     "name": "stdout",
     "output_type": "stream",
     "text": [
      "top1 accuracy:0.0\n",
      "0\n",
      "top2 accuracy:0.0\n",
      "0\n",
      "top3 accuracy:0.06666666666666667\n",
      "2\n",
      "top4 accuracy:0.06666666666666667\n",
      "2\n",
      "top5 accuracy:0.06666666666666667\n",
      "2\n"
     ]
    }
   ],
   "source": [
    "for i in range(1,6):    \n",
    "    top_n_predictions = np.argsort(probas, axis = 1)[:,-i:]\n",
    "\n",
    "    result = []\n",
    "    for pre in top_n_predictions:\n",
    "        pre_list = []\n",
    "        for index in pre:\n",
    "            pre_list.append(mapping[index])\n",
    "        result.append(pre_list)\n",
    "\n",
    "    \n",
    "    count = 0\n",
    "    for p in result[:3]:\n",
    "        if 'ZIF-67' in p:\n",
    "            count += 1\n",
    "    for p in result[3:6]:\n",
    "        if 'ZIF-71' in p:\n",
    "            count += 1\n",
    "    for p in result[6:9]:\n",
    "        if 'ZIF-8' in p:\n",
    "            count += 1\n",
    "    for p in result[9:12]:\n",
    "        if 'ZIF-90' in p:\n",
    "            count += 1\n",
    "    for p in result[12:15]:\n",
    "        if 'ZIF-7' in p:\n",
    "            count += 1\n",
    "    for p in result[15:18]:\n",
    "        if 'ZIF-9' in p:\n",
    "            count += 1\n",
    "    for p in result[18:21]:\n",
    "        if 'MOF-5' in p:\n",
    "            count += 1\n",
    "    for p in result[21:24]:\n",
    "        if 'MOF-74' in p:\n",
    "            count += 1\n",
    "    for p in result[24:27]:\n",
    "        if 'MOF-199' in p:\n",
    "            count += 1\n",
    "    for p in result[27:30]:\n",
    "        if 'MOF-2' in p:\n",
    "            count += 1\n",
    "\n",
    "    accuracy = count/30\n",
    "    print('top' + str(i) + ' ' + 'accuracy:' +str(accuracy))\n",
    "    print(count)"
   ]
  },
  {
   "cell_type": "code",
   "execution_count": null,
   "metadata": {},
   "outputs": [],
   "source": []
  }
 ],
 "metadata": {
  "kernelspec": {
   "display_name": "Python 3",
   "language": "python",
   "name": "python3"
  },
  "language_info": {
   "codemirror_mode": {
    "name": "ipython",
    "version": 3
   },
   "file_extension": ".py",
   "mimetype": "text/x-python",
   "name": "python",
   "nbconvert_exporter": "python",
   "pygments_lexer": "ipython3",
   "version": "3.7.3"
  }
 },
 "nbformat": 4,
 "nbformat_minor": 2
}
