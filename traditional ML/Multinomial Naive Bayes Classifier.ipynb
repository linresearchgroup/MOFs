{
 "cells": [
  {
   "cell_type": "code",
   "execution_count": 19,
   "metadata": {},
   "outputs": [],
   "source": [
    "import numpy as np # linear algebra\n",
    "import pandas as pd # data processing, CSV file I/O (e.g. pd.read_csv)\n",
    "import pickle\n",
    "#import keras\n",
    "\n",
    "from sklearn import svm\n",
    "import random\n",
    "import os\n",
    "from math import floor\n",
    "import warnings\n",
    "\n",
    "from sklearn.preprocessing import StandardScaler, MinMaxScaler"
   ]
  },
  {
   "cell_type": "code",
   "execution_count": 20,
   "metadata": {},
   "outputs": [],
   "source": [
    "# If you want to train the model by yourself\n",
    "\n",
    "# train data\n",
    "with open('train_data.pickle', 'rb') as f:\n",
    "    Data = pickle.load(f)\n",
    "    Data = pd.DataFrame(Data)\n",
    "\n",
    "numtrain = 1012 * 6 * 12\n",
    "numval = int(numtrain * 0.2)\n",
    "\n",
    "\n",
    "# Train validation split\n",
    "idx = random.sample(range(numtrain), numval) # 80% for training\n",
    "all_index = list(np.setdiff1d(range(numtrain), idx))\n",
    "\n",
    "# Getting X_train, X_val, y_train and scale them\n",
    "\n",
    "X_train = Data.iloc[all_index,:].drop(2251, axis = 1)\n",
    "X_val = Data.iloc[idx,:].drop(2251, axis = 1)\n",
    "y_train = pd.get_dummies(Data.iloc[all_index,:][2251])\n",
    "#print(y_train)\n",
    "\n",
    "names = y_train.columns\n",
    "mapping = {}\n",
    "i = 0\n",
    "for n in names:\n",
    "    mapping[i] = n\n",
    "    i+=1\n",
    "#print(mapping)\n",
    "\n",
    "y_train = Data.iloc[all_index,:][2251]\n",
    "\n",
    "scaler = MinMaxScaler()\n",
    "X_train = scaler.fit_transform(X_train)\n",
    "X_val = scaler.transform(X_val)"
   ]
  },
  {
   "cell_type": "code",
   "execution_count": 21,
   "metadata": {},
   "outputs": [
    {
     "data": {
      "text/plain": [
       "MultinomialNB(alpha=0.01, class_prior=None, fit_prior=True)"
      ]
     },
     "execution_count": 21,
     "metadata": {},
     "output_type": "execute_result"
    }
   ],
   "source": [
    "\n",
    "from sklearn.naive_bayes import MultinomialNB\n",
    "model = MultinomialNB(alpha=0.01)\n",
    "model.fit(X_train, y_train)\n"
   ]
  },
  {
   "cell_type": "code",
   "execution_count": 22,
   "metadata": {},
   "outputs": [
    {
     "name": "stdout",
     "output_type": "stream",
     "text": [
      "['DIRPIF', 'PUQDIQ', 'VUDPIV', 'QOLKOR', 'BUYNAL', 'TEDHAN', 'RUBTAK', 'IHOQIF', 'ODIXAC', 'JARMEU10', 'COMXUZ']\n",
      "['VUDPIV', 'PUQDIQ', 'DIRPIF', 'QOLKOR', 'BUYNAL', 'TEDHAN', 'IHOQIF', 'RUBTAK', 'FOHJAP', 'ODIXAC', 'IFEJUZ']\n",
      "['DIRPIF', 'PUQDIQ', 'BUYNAL', 'QOLKOR', 'RUBTAK', 'TEDHAN', 'IHOQIF', 'ODIXAC', 'COMXUZ', 'JARMEU10', 'PYDSCU10']\n",
      "['MARFIW', 'EQOYIS', 'AGOVID', 'MIBMER', 'GEPYIK', 'DUT-12', 'SIJPAD', 'NAYMAC', 'HIPZAJ', 'TIXXOP', 'TEDHAN']\n",
      "['MARFIW', 'EQOYIS', 'GOSSEM01', 'XANLUV', 'TEDHAN', 'AGOVID', 'REJPIH', 'LIKRAZ', 'SIJPAD', 'GEPYIK', 'DUT-12']\n",
      "['MARFIW', 'EQOYIS', 'GOSSEM01', 'AGOVID', 'TEDHAN', 'XANLUV', 'HIPZAJ', 'DUT-12', 'SIJPAD', 'MIBMER', 'REJPIH']\n",
      "['FUDGOC', 'ROJYEW', 'ZIF-65', 'ZIF-90', 'NATBAL', 'FESBIQ', 'ZOZPUB', 'MESTOU', 'JEJWOL', 'ABIKAZ', 'TEFWIL']\n",
      "['FUDGOC', 'NATBAL', 'MESTOU', 'ZOZPUB', 'TUQSII', 'MOXDOT', 'ROJYEW', 'ZIF-65', 'XUGROI', 'ZIF-90', 'QOHKEE']\n",
      "['NATBAL', 'MESTOU', 'ZOZPUB', 'TUQSII', 'FUDGOC', 'MOXDOT', 'XUGROI', 'LAYRIM', 'CUFFEP', 'QOHKEE', 'ABIKAZ']\n",
      "['FUDGOC', 'NATBAL', 'MESTOU', 'ZOZPUB', 'TUQSII', 'XUGROI', 'MOXDOT', 'ROJYEW', 'QOHKEE', 'ZIF-65', 'ZIF-90']\n",
      "['MOXDOT', 'FUDGOC', 'JEJWOL', 'ZOZPUB', 'QOHKEE', 'NATBAL', 'MESTOU', 'JUMDAY', 'ROJYEW', 'TEFWIL', 'ZIF-90']\n",
      "['FUDGOC', 'NATBAL', 'MESTOU', 'ZOZPUB', 'TUQSII', 'MOXDOT', 'ROJYEW', 'ZIF-65', 'ZIF-90', 'XUGROI', 'QOHKEE']\n",
      "['ZIF-7', 'ZIF-9', 'TUQSII', 'BUYNAL', 'AXINAX01', 'XUGROI', 'ZIF-71', 'ODIXAC', 'CUFFEP', 'KUNTAQ02', 'IHOQIF']\n",
      "['ZIF-7', 'ZIF-9', 'BUYNAL', 'AXINAX01', 'ZIF-71', 'TUQSII', 'ODIXAC', 'IHOQIF', 'BAXQAU', 'VUDPIV', 'BUBWEC']\n",
      "['ZIF-7', 'ZIF-9', 'TUQSII', 'BUYNAL', 'AXINAX01', 'XUGROI', 'ZIF-71', 'IHOQIF', 'ODIXAC', 'CUFFEP', 'ZIF-12']\n",
      "['LOTMOY02', 'OGUTOA', 'COCDOP', 'XANLUV', 'REJPIH', 'BUYNAL', 'LIKRAZ', 'OMORUE', 'KOZVOM', 'MOXDOT', 'GURFIJ']\n",
      "['LOTMOY02', 'OGUTOA', 'XANLUV', 'COCDOP', 'ZUJKAS', 'MOXDOT', 'OMORUE', 'GOSSEM01', 'GURFIJ', 'HIPZAJ', 'AFEHUO']\n",
      "['XANLUV', 'MOXDOT', 'LOTMOY02', 'OGUTOA', 'BUYNAL', 'REJPIH', 'COCDOP', 'GOSSEM01', 'OMORUE', 'LIKRAZ', 'GURFIJ']\n",
      "['MITSAK', 'DAKVOC', 'MAKTUP', 'VAQBIY02', 'KIDGOT', 'UCOPUZ', 'NIDDIP', 'KOYRAT', 'UNEQUA', 'WIBNOL', 'JOCLAP']\n",
      "['EMITOK', 'NERLOL', 'CIDNIM', 'ZEDGEW', 'JOCLAP', 'MIBQAR03', 'LAWGEW', 'MIBQAR01', 'ZECKOJ', 'MOF-5', 'VUJVAZ']\n",
      "['JOCLAP', 'DAVVAZ', 'KIDGOT', 'HOCHAI', 'SOQSAU', 'YIPGUA', 'MAKTUP', 'ENISUQ', 'KAMZUV', 'SOHNAF', 'CIDNIM']\n",
      "['QAZLIO', 'NEFZII', 'HOJJOH', 'MAHSOE', 'NERLOL', 'QEQBEU', 'HOCHAI', 'KUNSUJ', 'VAGMIB', 'REGREC', 'RUGXIC']\n",
      "['VOZVAJ01', 'RUGXIC', 'HOJJOH', 'MOF-199', 'NAYJEE', 'NEFZII', 'OYOTIG', 'SIBCOV', 'VUJLET', 'QAZLIO', 'HOCHAI']\n",
      "['RUGXIC', 'VOZVAJ01', 'NEFZII', 'FEWBUG', 'IBUHUK', 'VUJLET', 'QEQBEU', 'HOCHAI', 'HOJJOH', 'SIBCOV', 'DANQIS']\n",
      "['VOZVAJ01', 'RUGXIC', 'SIBCOV', 'NAYJEE', 'MOF-199', 'AJOKUF', 'NEFZII', 'PUSXIL01', 'FEWBUG', 'KUWCEM', 'ZIF-6']\n",
      "['VOZVAJ01', 'SIBCOV', 'RUGXIC', 'AJOKUF', 'NAYJEE', 'MOF-199', 'NEFZII', 'PUSXIL01', 'CAXBIO', 'BIMGIO', 'KUWCEM']\n",
      "['SIBCOV', 'AJOKUF', 'RUGXIC', 'VOZVAJ01', 'NAYJEE', 'MOF-199', 'NEFZII', 'PUSXIL01', 'CAXBIO', 'LUWJEU', 'BIMGIO']\n",
      "['MOF-2', 'WOJZEA', 'LEJCAG', 'PUTYEI', 'LOSCON', 'XOHYUQ', 'NEDWIE', 'OFUYAR', 'GOSSEM01', 'MAKTUP', 'BEWCUD']\n",
      "['MOF-2', 'LEJCAG', 'WOJZEA', 'PUTYEI', 'LOSCON', 'XOHYUQ', 'NEDWIE', 'OFUYAR', 'GOSSEM01', 'MAKTUP', 'BEWCUD']\n",
      "['MOF-2', 'LEJCAG', 'WOJZEA', 'PUTYEI', 'LOSCON', 'XOHYUQ', 'NEDWIE', 'OFUYAR', 'GOSSEM01', 'MAKTUP', 'ILAKUC']\n"
     ]
    }
   ],
   "source": [
    "Test = pd.read_csv('test_data_30.csv')\n",
    "Test_filter = Test.fillna(method='ffill')\n",
    "\n",
    "X_test = scaler.transform(Test_filter.iloc[:,1:])\n",
    "#pred = clf.predict(X_test)\n",
    "\n",
    "probas = model.predict_proba(X_test)\n",
    "top_n_predictions = np.argsort(probas, axis = 1)[:,-11:]\n",
    "\n",
    "result = []\n",
    "for pre in top_n_predictions:\n",
    "    pre_list = []\n",
    "    for index in pre:\n",
    "        pre_list.append(mapping[index])\n",
    "    result.append(pre_list)\n",
    "\n",
    "    \n",
    "for plist in result:\n",
    "    plist.reverse()\n",
    "    print(plist)"
   ]
  },
  {
   "cell_type": "code",
   "execution_count": 23,
   "metadata": {},
   "outputs": [
    {
     "name": "stdout",
     "output_type": "stream",
     "text": [
      "['DIRPIF', 'PUQDIQ', 'VUDPIV', 'QOLKOR', 'BUYNAL']\n",
      "['VUDPIV', 'PUQDIQ', 'DIRPIF', 'QOLKOR', 'BUYNAL']\n",
      "['DIRPIF', 'PUQDIQ', 'BUYNAL', 'QOLKOR', 'RUBTAK']\n",
      "['MARFIW', 'EQOYIS', 'AGOVID', 'MIBMER', 'GEPYIK']\n",
      "['MARFIW', 'EQOYIS', 'GOSSEM01', 'XANLUV', 'TEDHAN']\n",
      "['MARFIW', 'EQOYIS', 'GOSSEM01', 'AGOVID', 'TEDHAN']\n",
      "['FUDGOC', 'ROJYEW', 'ZIF-65', 'ZIF-90', 'NATBAL']\n",
      "['FUDGOC', 'NATBAL', 'MESTOU', 'ZOZPUB', 'TUQSII']\n",
      "['NATBAL', 'MESTOU', 'ZOZPUB', 'TUQSII', 'FUDGOC']\n",
      "['FUDGOC', 'NATBAL', 'MESTOU', 'ZOZPUB', 'TUQSII']\n",
      "['MOXDOT', 'FUDGOC', 'JEJWOL', 'ZOZPUB', 'QOHKEE']\n",
      "['FUDGOC', 'NATBAL', 'MESTOU', 'ZOZPUB', 'TUQSII']\n",
      "['ZIF-7', 'ZIF-9', 'TUQSII', 'BUYNAL', 'AXINAX01']\n",
      "['ZIF-7', 'ZIF-9', 'BUYNAL', 'AXINAX01', 'ZIF-71']\n",
      "['ZIF-7', 'ZIF-9', 'TUQSII', 'BUYNAL', 'AXINAX01']\n",
      "['LOTMOY02', 'OGUTOA', 'COCDOP', 'XANLUV', 'REJPIH']\n",
      "['LOTMOY02', 'OGUTOA', 'XANLUV', 'COCDOP', 'ZUJKAS']\n",
      "['XANLUV', 'MOXDOT', 'LOTMOY02', 'OGUTOA', 'BUYNAL']\n",
      "['MITSAK', 'DAKVOC', 'MAKTUP', 'VAQBIY02', 'KIDGOT']\n",
      "['EMITOK', 'NERLOL', 'CIDNIM', 'ZEDGEW', 'JOCLAP']\n",
      "['JOCLAP', 'DAVVAZ', 'KIDGOT', 'HOCHAI', 'SOQSAU']\n",
      "['QAZLIO', 'NEFZII', 'HOJJOH', 'MAHSOE', 'NERLOL']\n",
      "['VOZVAJ01', 'RUGXIC', 'HOJJOH', 'MOF-199', 'NAYJEE']\n",
      "['RUGXIC', 'VOZVAJ01', 'NEFZII', 'FEWBUG', 'IBUHUK']\n",
      "['VOZVAJ01', 'RUGXIC', 'SIBCOV', 'NAYJEE', 'MOF-199']\n",
      "['VOZVAJ01', 'SIBCOV', 'RUGXIC', 'AJOKUF', 'NAYJEE']\n",
      "['SIBCOV', 'AJOKUF', 'RUGXIC', 'VOZVAJ01', 'NAYJEE']\n",
      "['MOF-2', 'WOJZEA', 'LEJCAG', 'PUTYEI', 'LOSCON']\n",
      "['MOF-2', 'LEJCAG', 'WOJZEA', 'PUTYEI', 'LOSCON']\n",
      "['MOF-2', 'LEJCAG', 'WOJZEA', 'PUTYEI', 'LOSCON']\n"
     ]
    }
   ],
   "source": [
    "top_n_predictions = np.argsort(probas, axis = 1)[:,-5:]\n",
    "\n",
    "result = []\n",
    "for pre in top_n_predictions:\n",
    "    pre_list = []\n",
    "    for index in pre:\n",
    "        pre_list.append(mapping[index])\n",
    "    result.append(pre_list)\n",
    "\n",
    "    \n",
    "for plist in result:\n",
    "    plist.reverse()\n",
    "    print(plist)"
   ]
  },
  {
   "cell_type": "code",
   "execution_count": 24,
   "metadata": {},
   "outputs": [
    {
     "name": "stdout",
     "output_type": "stream",
     "text": [
      "top1 accuracy:0.2\n",
      "6\n",
      "top2 accuracy:0.2\n",
      "6\n",
      "top3 accuracy:0.2\n",
      "6\n",
      "top4 accuracy:0.2\n",
      "6\n",
      "top5 accuracy:0.23333333333333334\n",
      "7\n"
     ]
    }
   ],
   "source": [
    "for i in range(1,6):    \n",
    "    top_n_predictions = np.argsort(probas, axis = 1)[:,-i:]\n",
    "\n",
    "    result = []\n",
    "    for pre in top_n_predictions:\n",
    "        pre_list = []\n",
    "        for index in pre:\n",
    "            pre_list.append(mapping[index])\n",
    "        result.append(pre_list)\n",
    "\n",
    "    \n",
    "    count = 0\n",
    "    for p in result[:3]:\n",
    "        if 'ZIF-67' in p:\n",
    "            count += 1\n",
    "    for p in result[3:6]:\n",
    "        if 'ZIF-71' in p:\n",
    "            count += 1\n",
    "    for p in result[6:9]:\n",
    "        if 'ZIF-8' in p:\n",
    "            count += 1\n",
    "    for p in result[9:12]:\n",
    "        if 'ZIF-90' in p:\n",
    "            count += 1\n",
    "    for p in result[12:15]:\n",
    "        if 'ZIF-7' in p:\n",
    "            count += 1\n",
    "    for p in result[15:18]:\n",
    "        if 'ZIF-9' in p:\n",
    "            count += 1\n",
    "    for p in result[18:21]:\n",
    "        if 'MOF-5' in p:\n",
    "            count += 1\n",
    "    for p in result[21:24]:\n",
    "        if 'MOF-74' in p:\n",
    "            count += 1\n",
    "    for p in result[24:27]:\n",
    "        if 'MOF-199' in p:\n",
    "            count += 1\n",
    "    for p in result[27:30]:\n",
    "        if 'MOF-2' in p:\n",
    "            count += 1\n",
    "\n",
    "    accuracy = count/30\n",
    "    print('top' + str(i) + ' ' + 'accuracy:' +str(accuracy))\n",
    "    print(count)"
   ]
  },
  {
   "cell_type": "code",
   "execution_count": null,
   "metadata": {},
   "outputs": [],
   "source": []
  }
 ],
 "metadata": {
  "kernelspec": {
   "display_name": "Python 3",
   "language": "python",
   "name": "python3"
  },
  "language_info": {
   "codemirror_mode": {
    "name": "ipython",
    "version": 3
   },
   "file_extension": ".py",
   "mimetype": "text/x-python",
   "name": "python",
   "nbconvert_exporter": "python",
   "pygments_lexer": "ipython3",
   "version": "3.7.3"
  }
 },
 "nbformat": 4,
 "nbformat_minor": 2
}
