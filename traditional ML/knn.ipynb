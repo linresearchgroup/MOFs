{
 "cells": [
  {
   "cell_type": "code",
   "execution_count": 1,
   "metadata": {},
   "outputs": [],
   "source": [
    "import numpy as np # linear algebra\n",
    "import pandas as pd # data processing, CSV file I/O (e.g. pd.read_csv)\n",
    "import pickle\n",
    "#import keras\n",
    "\n",
    "from sklearn import svm\n",
    "import random\n",
    "import os\n",
    "from math import floor\n",
    "import warnings\n",
    "\n",
    "from sklearn.preprocessing import StandardScaler, MinMaxScaler"
   ]
  },
  {
   "cell_type": "code",
   "execution_count": 2,
   "metadata": {},
   "outputs": [],
   "source": [
    "# If you want to train the model by yourself\n",
    "\n",
    "# train data\n",
    "with open('train_data.pickle', 'rb') as f:\n",
    "    Data = pickle.load(f)\n",
    "    Data = pd.DataFrame(Data)\n",
    "\n",
    "numtrain = 1012 * 6 * 12\n",
    "numval = int(numtrain * 0.2)\n",
    "\n",
    "\n",
    "# Train validation split\n",
    "idx = random.sample(range(numtrain), numval) # 80% for training\n",
    "all_index = list(np.setdiff1d(range(numtrain), idx))\n",
    "\n",
    "# Getting X_train, X_val, y_train and scale them\n",
    "\n",
    "X_train = Data.iloc[all_index,:].drop(2251, axis = 1)\n",
    "X_val = Data.iloc[idx,:].drop(2251, axis = 1)\n",
    "y_train = pd.get_dummies(Data.iloc[all_index,:][2251])\n",
    "#print(y_train)\n",
    "\n",
    "names = y_train.columns\n",
    "mapping = {}\n",
    "i = 0\n",
    "for n in names:\n",
    "    mapping[i] = n\n",
    "    i+=1\n",
    "#print(mapping)\n",
    "\n",
    "y_train = Data.iloc[all_index,:][2251]\n",
    "\n",
    "scaler = MinMaxScaler()\n",
    "X_train = scaler.fit_transform(X_train)\n",
    "X_val = scaler.transform(X_val)"
   ]
  },
  {
   "cell_type": "code",
   "execution_count": 3,
   "metadata": {},
   "outputs": [
    {
     "data": {
      "text/plain": [
       "KNeighborsClassifier(algorithm='auto', leaf_size=30, metric='minkowski',\n",
       "                     metric_params=None, n_jobs=None, n_neighbors=140, p=2,\n",
       "                     weights='uniform')"
      ]
     },
     "execution_count": 3,
     "metadata": {},
     "output_type": "execute_result"
    }
   ],
   "source": [
    "from sklearn.neighbors import KNeighborsClassifier\n",
    "model = KNeighborsClassifier(n_neighbors=140)\n",
    "model.fit(X_train, y_train)"
   ]
  },
  {
   "cell_type": "code",
   "execution_count": 4,
   "metadata": {
    "scrolled": true
   },
   "outputs": [
    {
     "name": "stdout",
     "output_type": "stream",
     "text": [
      "['TEDHAN', 'JARMEU', 'COMXUZ', 'QOLKOR', 'JARMEU10', 'IHOQIF', 'BUYNAL', 'JOKXOW10', 'JOKXUC', 'JOKXUC10', 'JOKYAJ']\n",
      "['TEDHAN', 'COMXUZ', 'JARMEU', 'QOLKOR', 'JARMEU10', 'IHOQIF', 'BUYNAL', 'PYDSCU10', 'JOKXOW10', 'JOKXUC', 'JOKXUC10']\n",
      "['TEDHAN', 'JARMEU', 'QOLKOR', 'COMXUZ', 'JARMEU10', 'BUYNAL', 'JOKYAJ10', 'JOKXOW10', 'JOKXUC', 'JOKXUC10', 'JOKYAJ']\n",
      "['GOSSEM01', 'HEGCEB', 'TEDHAN', 'REJPIH', 'LIKRAZ', 'JOKYEN10', 'JOKYIR', 'JOKYEN', 'JOKYAJ10', 'JOKXAI10', 'JOKYAJ']\n",
      "['GOSSEM01', 'HEGCEB', 'LIKRAZ', 'REJPIH', 'XANLUV', 'TEDHAN', 'JOKYEN', 'JOKYEN10', 'JOKYAJ10', 'JOKYIR', 'JOKXAI']\n",
      "['GOSSEM01', 'HEGCEB', 'REJPIH', 'LIKRAZ', 'TEDHAN', 'JOKYIR', 'JOKYEN10', 'JOKYEN', 'JOKYAJ10', 'JOKXAI10', 'JOKYAJ']\n",
      "['FUDGOC', 'ROJYEW', 'ZIF-90', 'ZIF-65', 'DUT-23', 'TEFWIL', 'JUMDAY', 'ZUYWAR', 'JOKXOW10', 'JOKXEM10', 'JOKXOW']\n",
      "['FUDGOC', 'ROJYEW', 'XUGROI', 'ZIF-90', 'ZIF-65', 'MESTOU', 'ZUYWAR', 'JOKXEM10', 'JOKXOW', 'JOKXOW10', 'JOKXUC10']\n",
      "['MESTOU', 'TUQSII', 'XUGROI', 'FUDGOC', 'PODKUQ', 'QOHKEE', 'ZUYWAR', 'JOKXUC10', 'JOKXOW', 'JOKXOW10', 'JOKXUC']\n",
      "['FUDGOC', 'XUGROI', 'ROJYEW', 'ZIF-90', 'MESTOU', 'ZIF-65', 'ZUYWAR', 'JOKXEM10', 'JOKXOW', 'JOKXOW10', 'JOKXUC10']\n",
      "['FUDGOC', 'TEFWIL', 'TIHWEM', 'ZIF-90', 'ROJYEW', 'JUMDAY', 'DUT-23', 'ZIF-65', 'ZUYWAR', 'JOKXEM', 'JOKXEM10']\n",
      "['FUDGOC', 'ZIF-90', 'ROJYEW', 'ZIF-65', 'DUT-23', 'TEFWIL', 'MESTOU', 'XUGROI', 'ZUYWAR', 'JOKXEM10', 'JOKXOW']\n",
      "['ZIF-7', 'NODTEH', 'ZIF-9', 'VUDPIV', 'OXALAB', 'CUFFEP', 'JOKYEN10', 'JOKYEN', 'JOKYOX', 'JOKYAJ', 'JOKYIR']\n",
      "['ZIF-7', 'ZIF-9', 'VUDPIV', 'TEDHAN', 'ZIF-71', 'BUYNAL', 'JOKXUC', 'JOKXEM', 'JOKXEM10', 'JOKXOW', 'JOKXOW10']\n",
      "['ZIF-7', 'NODTEH', 'VUDPIV', 'ZIF-9', 'TUQSII', 'OXALAB', 'ZIF-12', 'ZIF-11', 'JOKYEN', 'JOKYAJ10', 'JOKYAJ']\n",
      "['GOSSEM01', 'DUPXIW', 'NOHSOU', 'GIKJER', 'TIGDOD', 'COCDOP', 'LOTMOY02', 'UCOQIO', 'NIMJUP', 'RASGAT', 'EXEHEV02']\n",
      "['LOTMOY02', 'OMORUE', 'ZUJKAS', 'NIJTOP01', 'GOSSEM01', 'GURFIJ', 'OGUTOA', 'AFEHUO', 'ZUYWAR', 'JOKXUC10', 'JOKXOW']\n",
      "['GOSSEM01', 'MONLOQ', 'GIKJER', 'RASGAT', 'LOTMOY02', 'HIPZAJ', 'NIMJUP', 'GURFIJ', 'OGUTOA', 'MEHMET', 'EXEHEV02']\n",
      "['DAKVOC', 'MITSAK', 'KIDGOT', 'UGUQOC', 'VAQBIY02', 'OVEDUP', 'UCOPUZ', 'SUPZAG', 'LITHUR', 'MAKTUP', 'IZUVUV']\n",
      "['EMITOK', 'NERLOL', 'ZEDGEW', 'ZIF-81', 'KUWCEM', 'MIBQAR19', 'SOHNAF', 'VATXIZ', 'LAWGEW', 'DAVVAZ', 'ZECKOJ']\n",
      "['JOKXEM10', 'UKAZEM', 'JOVXUP', 'JOKYIR10', 'JOKXOW10', 'JOKYIR', 'JOKYEN10', 'JOKYEN', 'UHAXUW', 'JOKXEM', 'LAMFEK']\n",
      "['RAFRAS', 'HOJJOH', 'NEFZII', 'VUJLET', 'QEQBEU', 'NERLOL', 'ZUYWAR', 'JOKXUC', 'JOKXOW', 'JOKXOW10', 'JOKXUC10']\n",
      "['QEQBEU', 'RAFRAS', 'VOZVAJ01', 'HOCHAI', 'ENISUQ', 'RUGXIC', 'KAMZUV', 'NEFZII', 'VUJLET', 'JOKYAJ', 'JOKXUC10']\n",
      "['RUGXIC', 'VUJLET', 'VOZVAJ01', 'NEFZII', 'RAFRAS', 'QEQBEU', 'JOKYAJ', 'JOKXUC10', 'JOKXUC', 'JOKYAJ10', 'JOKXOW10']\n",
      "['SIBCOV', 'VOZVAJ01', 'RUGXIC', 'PUSXIL01', 'MOF-199', 'AJOKUF', 'TOVJIX', 'NAYJEE', 'VUJLET', 'NEFZII', 'JOKXUC10']\n",
      "['PUSXIL01', 'AJOKUF', 'VICJEY', 'VOZVAJ01', 'TOVJIX', 'SIBCOV', 'RUGXIC', 'NEFZII', 'FALJEJ', 'NAYSOV01', 'RIWGEL']\n",
      "['PUSXIL01', 'VICJEY', 'TOVJIX', 'FALJEJ', 'VOZVAJ01', 'RUGXIC', 'SIBCOV', 'AJOKUF', 'NAYSOV01', 'RIWGEL', 'NEFZII']\n",
      "['MOF-2', 'LOSCON', 'PUTYEI', 'NEDWIE', 'LEJCAG', 'JOKYEN', 'JOKYAJ10', 'JOKYEN10', 'JOKYAJ', 'JOKXAI', 'JOKXUC']\n",
      "['MOF-2', 'LOSCON', 'PUTYEI', 'NEDWIE', 'LEJCAG', 'JOKYEN', 'JOKYAJ10', 'JOKYEN10', 'JOKYAJ', 'JOKXAI', 'JOKXUC']\n",
      "['MOF-2', 'LOSCON', 'PUTYEI', 'NEDWIE', 'LEJCAG', 'JOKYEN', 'JOKYAJ10', 'JOKYEN10', 'JOKYAJ', 'JOKXAI', 'JOKXUC']\n"
     ]
    }
   ],
   "source": [
    "Test = pd.read_csv('test_data_30.csv')\n",
    "Test_filter = Test.fillna(method='ffill')\n",
    "\n",
    "X_test = scaler.transform(Test_filter.iloc[:,1:])\n",
    "#pred = clf.predict(X_test)\n",
    "\n",
    "probas = model.predict_proba(X_test)\n",
    "top_n_predictions = np.argsort(probas, axis = 1)[:,-11:]\n",
    "\n",
    "result = []\n",
    "for pre in top_n_predictions:\n",
    "    pre_list = []\n",
    "    for index in pre:\n",
    "        pre_list.append(mapping[index])\n",
    "    result.append(pre_list)\n",
    "\n",
    "    \n",
    "for plist in result:\n",
    "    plist.reverse()\n",
    "    print(plist)"
   ]
  },
  {
   "cell_type": "code",
   "execution_count": 5,
   "metadata": {},
   "outputs": [
    {
     "name": "stdout",
     "output_type": "stream",
     "text": [
      "['TEDHAN', 'JARMEU', 'COMXUZ', 'QOLKOR', 'JARMEU10']\n",
      "['TEDHAN', 'COMXUZ', 'JARMEU', 'QOLKOR', 'JARMEU10']\n",
      "['TEDHAN', 'JARMEU', 'QOLKOR', 'COMXUZ', 'JARMEU10']\n",
      "['GOSSEM01', 'HEGCEB', 'TEDHAN', 'REJPIH', 'LIKRAZ']\n",
      "['GOSSEM01', 'HEGCEB', 'LIKRAZ', 'REJPIH', 'XANLUV']\n",
      "['GOSSEM01', 'HEGCEB', 'REJPIH', 'LIKRAZ', 'TEDHAN']\n",
      "['FUDGOC', 'ROJYEW', 'ZIF-90', 'ZIF-65', 'DUT-23']\n",
      "['FUDGOC', 'ROJYEW', 'XUGROI', 'ZIF-90', 'ZIF-65']\n",
      "['MESTOU', 'TUQSII', 'XUGROI', 'FUDGOC', 'PODKUQ']\n",
      "['FUDGOC', 'XUGROI', 'ROJYEW', 'ZIF-90', 'MESTOU']\n",
      "['FUDGOC', 'TEFWIL', 'TIHWEM', 'ZIF-90', 'ROJYEW']\n",
      "['FUDGOC', 'ZIF-90', 'ROJYEW', 'ZIF-65', 'DUT-23']\n",
      "['ZIF-7', 'NODTEH', 'ZIF-9', 'VUDPIV', 'OXALAB']\n",
      "['ZIF-7', 'ZIF-9', 'VUDPIV', 'TEDHAN', 'ZIF-71']\n",
      "['ZIF-7', 'NODTEH', 'VUDPIV', 'ZIF-9', 'TUQSII']\n",
      "['GOSSEM01', 'DUPXIW', 'NOHSOU', 'GIKJER', 'TIGDOD']\n",
      "['LOTMOY02', 'OMORUE', 'ZUJKAS', 'NIJTOP01', 'GOSSEM01']\n",
      "['GOSSEM01', 'MONLOQ', 'GIKJER', 'RASGAT', 'LOTMOY02']\n",
      "['DAKVOC', 'MITSAK', 'KIDGOT', 'UGUQOC', 'VAQBIY02']\n",
      "['EMITOK', 'NERLOL', 'ZEDGEW', 'ZIF-81', 'KUWCEM']\n",
      "['JOKXEM10', 'UKAZEM', 'JOVXUP', 'JOKYIR10', 'JOKXOW10']\n",
      "['RAFRAS', 'HOJJOH', 'NEFZII', 'VUJLET', 'QEQBEU']\n",
      "['QEQBEU', 'RAFRAS', 'VOZVAJ01', 'HOCHAI', 'ENISUQ']\n",
      "['RUGXIC', 'VUJLET', 'VOZVAJ01', 'NEFZII', 'RAFRAS']\n",
      "['SIBCOV', 'VOZVAJ01', 'RUGXIC', 'PUSXIL01', 'MOF-199']\n",
      "['PUSXIL01', 'AJOKUF', 'VICJEY', 'VOZVAJ01', 'TOVJIX']\n",
      "['PUSXIL01', 'VICJEY', 'TOVJIX', 'FALJEJ', 'VOZVAJ01']\n",
      "['MOF-2', 'LOSCON', 'PUTYEI', 'NEDWIE', 'LEJCAG']\n",
      "['MOF-2', 'LOSCON', 'PUTYEI', 'NEDWIE', 'LEJCAG']\n",
      "['MOF-2', 'LOSCON', 'PUTYEI', 'NEDWIE', 'LEJCAG']\n"
     ]
    }
   ],
   "source": [
    "top_n_predictions = np.argsort(probas, axis = 1)[:,-5:]\n",
    "\n",
    "result = []\n",
    "for pre in top_n_predictions:\n",
    "    pre_list = []\n",
    "    for index in pre:\n",
    "        pre_list.append(mapping[index])\n",
    "    result.append(pre_list)\n",
    "\n",
    "    \n",
    "for plist in result:\n",
    "    plist.reverse()\n",
    "    print(plist)"
   ]
  },
  {
   "cell_type": "code",
   "execution_count": 6,
   "metadata": {},
   "outputs": [
    {
     "name": "stdout",
     "output_type": "stream",
     "text": [
      "top1 accuracy:0.2\n",
      "6\n",
      "top2 accuracy:0.23333333333333334\n",
      "7\n",
      "top3 accuracy:0.23333333333333334\n",
      "7\n",
      "top4 accuracy:0.3\n",
      "9\n",
      "top5 accuracy:0.3333333333333333\n",
      "10\n"
     ]
    }
   ],
   "source": [
    "for i in range(1,6):    \n",
    "    top_n_predictions = np.argsort(probas, axis = 1)[:,-i:]\n",
    "\n",
    "    result = []\n",
    "    for pre in top_n_predictions:\n",
    "        pre_list = []\n",
    "        for index in pre:\n",
    "            pre_list.append(mapping[index])\n",
    "        result.append(pre_list)\n",
    "\n",
    "    \n",
    "    count = 0\n",
    "    for p in result[:3]:\n",
    "        if 'ZIF-67' in p:\n",
    "            count += 1\n",
    "    for p in result[3:6]:\n",
    "        if 'ZIF-71' in p:\n",
    "            count += 1\n",
    "    for p in result[6:9]:\n",
    "        if 'ZIF-8' in p:\n",
    "            count += 1\n",
    "    for p in result[9:12]:\n",
    "        if 'ZIF-90' in p:\n",
    "            count += 1\n",
    "    for p in result[12:15]:\n",
    "        if 'ZIF-7' in p:\n",
    "            count += 1\n",
    "    for p in result[15:18]:\n",
    "        if 'ZIF-9' in p:\n",
    "            count += 1\n",
    "    for p in result[18:21]:\n",
    "        if 'MOF-5' in p:\n",
    "            count += 1\n",
    "    for p in result[21:24]:\n",
    "        if 'MOF-74' in p:\n",
    "            count += 1\n",
    "    for p in result[24:27]:\n",
    "        if 'MOF-199' in p:\n",
    "            count += 1\n",
    "    for p in result[27:30]:\n",
    "        if 'MOF-2' in p:\n",
    "            count += 1\n",
    "\n",
    "    accuracy = count/30\n",
    "    print('top' + str(i) + ' ' + 'accuracy:' +str(accuracy))\n",
    "    print(count)"
   ]
  },
  {
   "cell_type": "code",
   "execution_count": null,
   "metadata": {},
   "outputs": [],
   "source": []
  }
 ],
 "metadata": {
  "kernelspec": {
   "display_name": "Python 3",
   "language": "python",
   "name": "python3"
  },
  "language_info": {
   "codemirror_mode": {
    "name": "ipython",
    "version": 3
   },
   "file_extension": ".py",
   "mimetype": "text/x-python",
   "name": "python",
   "nbconvert_exporter": "python",
   "pygments_lexer": "ipython3",
   "version": "3.7.3"
  }
 },
 "nbformat": 4,
 "nbformat_minor": 2
}
