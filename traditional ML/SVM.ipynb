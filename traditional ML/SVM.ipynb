{
 "cells": [
  {
   "cell_type": "code",
   "execution_count": 1,
   "metadata": {},
   "outputs": [],
   "source": [
    "import numpy as np # linear algebra\n",
    "import pandas as pd # data processing, CSV file I/O (e.g. pd.read_csv)\n",
    "import pickle\n",
    "#import keras\n",
    "\n",
    "from sklearn import svm\n",
    "import random\n",
    "import os\n",
    "from math import floor\n",
    "import warnings\n",
    "\n",
    "from sklearn.preprocessing import StandardScaler, MinMaxScaler\n"
   ]
  },
  {
   "cell_type": "code",
   "execution_count": 2,
   "metadata": {},
   "outputs": [],
   "source": [
    "# If you want to train the model by yourself\n",
    "\n",
    "# train data\n",
    "with open('train_data.pickle', 'rb') as f:\n",
    "    Data = pickle.load(f)\n",
    "    Data = pd.DataFrame(Data)\n",
    "\n",
    "numtrain = 1012 * 6 * 12\n",
    "numval = int(numtrain * 0.2)\n",
    "\n",
    "\n",
    "# Train validation split\n",
    "idx = random.sample(range(numtrain), numval) # 80% for training\n",
    "all_index = list(np.setdiff1d(range(numtrain), idx))\n",
    "\n",
    "# Getting X_train, X_val, y_train and scale them\n",
    "\n",
    "X_train = Data.iloc[all_index,:].drop(2251, axis = 1)\n",
    "X_val = Data.iloc[idx,:].drop(2251, axis = 1)\n",
    "y_train = pd.get_dummies(Data.iloc[all_index,:][2251])\n",
    "#print(y_train)\n",
    "\n",
    "names = y_train.columns\n",
    "mapping = {}\n",
    "i = 0\n",
    "for n in names:\n",
    "    mapping[i] = n\n",
    "    i+=1\n",
    "#print(mapping)\n",
    "\n",
    "y_train = Data.iloc[all_index,:][2251]\n",
    "\n",
    "scaler = MinMaxScaler()\n",
    "X_train = scaler.fit_transform(X_train)\n",
    "X_val = scaler.transform(X_val)"
   ]
  },
  {
   "cell_type": "code",
   "execution_count": 3,
   "metadata": {},
   "outputs": [
    {
     "name": "stderr",
     "output_type": "stream",
     "text": [
      "C:\\Users\\Hong\\Anaconda3\\envs\\tensorflow_gpu_1.12_py37\\lib\\site-packages\\sklearn\\svm\\base.py:193: FutureWarning: The default value of gamma will change from 'auto' to 'scale' in version 0.22 to account better for unscaled features. Set gamma explicitly to 'auto' or 'scale' to avoid this warning.\n",
      "  \"avoid this warning.\", FutureWarning)\n"
     ]
    },
    {
     "data": {
      "text/plain": [
       "SVC(C=1.0, cache_size=200, class_weight=None, coef0=0.0,\n",
       "    decision_function_shape='ovr', degree=3, gamma='auto_deprecated',\n",
       "    kernel='rbf', max_iter=-1, probability=True, random_state=None,\n",
       "    shrinking=True, tol=0.001, verbose=False)"
      ]
     },
     "execution_count": 3,
     "metadata": {},
     "output_type": "execute_result"
    }
   ],
   "source": [
    "clf = svm.SVC(probability=True)  # class \n",
    "clf.fit(X_train, y_train)  # training the svc model"
   ]
  },
  {
   "cell_type": "code",
   "execution_count": 4,
   "metadata": {},
   "outputs": [
    {
     "name": "stdout",
     "output_type": "stream",
     "text": [
      "['JARMEU', 'BEWCUD', 'KUNTAQ02', 'RARBES', 'HIPZAJ', 'AXINAX01', 'OXALAB', 'ZIF-8', 'ZIF-12', 'HEGCEB', 'FOHJAP']\n",
      "['JARMEU', 'BEWCUD', 'KUNTAQ02', 'RARBES', 'HIPZAJ', 'AXINAX01', 'ZIF-8', 'OXALAB', 'ZIF-12', 'HEGCEB', 'FOHJAP']\n",
      "['JARMEU', 'BEWCUD', 'KUNTAQ02', 'RARBES', 'HIPZAJ', 'AXINAX01', 'OXALAB', 'HEGCEB', 'ZIF-12', 'ZIF-8', 'XUGROI']\n",
      "['HEGCEB', 'MARFIW', 'HIPZAJ', 'JARMEU', 'GADPOS', 'DUT-12', 'AGOVID', 'OGUTOA', 'GEPYIK', 'QUPJAO', 'UFASIE']\n",
      "['HEGCEB', 'MARFIW', 'HIPZAJ', 'JARMEU', 'OGUTOA', 'AGOVID', 'QUPJAO', 'GEPYIK', 'UFASIE', 'DUT-12', 'LIKRAZ']\n",
      "['HEGCEB', 'MARFIW', 'HIPZAJ', 'JARMEU', 'DUT-12', 'OGUTOA', 'AGOVID', 'QUPJAO', 'GEPYIK', 'UFASIE', 'LIKRAZ']\n",
      "['ZIF-8', 'XUGROI', 'LARDAL', 'FESBIQ', 'AXINAX01', 'KUNTAQ02', 'JEJWOL', 'IVESOS', 'GOSSEM', 'FURVEU', 'AGOVID']\n",
      "['ZIF-8', 'XUGROI', 'IVESOS', 'LARDAL', 'FESBIQ', 'KUNTAQ02', 'AXINAX01', 'QIJLAW', 'JEJWOL', 'NATBAL', 'FURVEU']\n",
      "['QIJLAW', 'IVESOS', 'FESBIQ', 'XUGROI', 'KUNTAQ02', 'LARDAL', 'NATBAL', 'JEJWOL', 'AXINAX01', 'ZIF-8', 'FURVEU']\n",
      "['ZIF-8', 'XUGROI', 'IVESOS', 'LARDAL', 'KUNTAQ02', 'AXINAX01', 'QIJLAW', 'JEJWOL', 'FESBIQ', 'NATBAL', 'FURVEU']\n",
      "['IVESOS', 'QIJLAW', 'XUGROI', 'ZIF-8', 'JEJWOL', 'LARDAL', 'AGOVID', 'AKICUT01', 'UTIZUT', 'TEFWIL', 'XUJRUR']\n",
      "['ZIF-8', 'XUGROI', 'LARDAL', 'AXINAX01', 'QIJLAW', 'KUNTAQ02', 'IVESOS', 'JEJWOL', 'AGOVID', 'GOSSEM', 'FURVEU']\n",
      "['NODTEH', 'RARBES', 'OXALAB', 'AXINAX01', 'JARMEU', 'KUNTAQ02', 'HIPZAJ', 'HEGCEB', 'LARDAL', 'ZIF-12', 'XUGROI']\n",
      "['JARMEU', 'RARBES', 'KUNTAQ02', 'HIPZAJ', 'BEWCUD', 'AXINAX01', 'OXALAB', 'NODTEH', 'HEGCEB', 'ZIF-12', 'NASZOW']\n",
      "['JARMEU', 'KUNTAQ02', 'RARBES', 'AXINAX01', 'OXALAB', 'NODTEH', 'HIPZAJ', 'BEWCUD', 'ZIF-12', 'XUGROI', 'NASZOW']\n",
      "['HEGCEB', 'XAYMUF', 'ONESAC', 'GEWMOM', 'BOTLUS', 'GIKJER', 'YEGWAK', 'JOKXUC', 'ROLZAV', 'TIGDOD', 'NIMJUP']\n",
      "['HEGCEB', 'HIPZAJ', 'RASGAT', 'NIMJUP', 'OGUTOA', 'GADPOS', 'DUT-10', 'MONLOQ', 'AXINAX01', 'KIDGOT', 'JOCLAP']\n",
      "['HEGCEB', 'XAYMUF', 'GIKJER', 'GEWMOM', 'HIPZAJ', 'NIMJUP', 'RASGAT', 'DOHCUA', 'MONLOQ', 'AXINAX01', 'MARFIW']\n",
      "['UGUQOC', 'LUYNAU', 'MIBQAR01', 'MAXFIA', 'KIDGOT', 'LITHUR', 'UNEQUA', 'AGOVID', 'KITWUH04', 'QOMGOQ', 'WOJZEA']\n",
      "['MAXFIA', 'MOF-5', 'MIBQAR01', 'NAYJEE', 'XANXUF', 'IVESOS', 'MOF-199', 'ZIF-69', 'RAFRAS', 'XEDCIT', 'JOCLAP']\n",
      "['JOVXUP', 'JOKYIR10', 'JOKXEM10', 'UKAZEM', 'XAYMUF', 'JOKXOW10', 'JOKXEM', 'JOKYEN10', 'UHAXUW', 'JOKXAI10', 'JOKYIR']\n",
      "['HOJJOH', 'QIJLAW', 'RAFRAS', 'REGREC', 'NAYJEE', 'GADPOS', 'MOF-199', 'MAXFIA', 'NEFZII', 'VOZVAJ01', 'HOCHAI']\n",
      "['NAYJEE', 'RAFRAS', 'REGREC', 'MOF-199', 'VOZVAJ01', 'HOJJOH', 'HOCHAI', 'NEFZII', 'AFOVEX', 'JOCLAP', 'ZIF-6']\n",
      "['RAFRAS', 'REGREC', 'NAYJEE', 'HOJJOH', 'VOZVAJ01', 'MOF-199', 'NEFZII', 'HOCHAI', 'ZIF-6', 'AFOVEX', 'GADPOS']\n",
      "['NAYJEE', 'MOF-199', 'FALJEJ', 'BOTLUS', 'RAFRAS', 'HOJJOH', 'VOZVAJ01', 'FAYPIG', 'GADPOS', 'ZIF-6', 'NEFZII']\n",
      "['FALJEJ', 'NAYJEE', 'RIWGEL', 'VICJEY', 'BOTLUS', 'MOF-199', 'VOZVAJ01', 'MAXFIA', 'FAYPIG', 'HOJJOH', 'NEFZII']\n",
      "['FALJEJ', 'RIWGEL', 'NAYJEE', 'VICJEY', 'BOTLUS', 'MOF-199', 'MAXFIA', 'VOZVAJ01', 'NAYSOV01', 'MITRUD', 'NEFZII']\n",
      "['ONESAC', 'MUNXIC', 'PUTYEI', 'MOF-2', 'UGUQOC', 'MAXFIA', 'WOJZEA', 'BEWCUD', 'BOTLUS', 'GIKJER', 'IZUVUV']\n",
      "['ONESAC', 'MUNXIC', 'PUTYEI', 'MOF-2', 'GIKJER', 'BEWCUD', 'MAXFIA', 'WOJZEA', 'UGUQOC', 'SIJDUM', 'BOTLUS']\n",
      "['ONESAC', 'MUNXIC', 'PUTYEI', 'MOF-2', 'GIKJER', 'BEWCUD', 'MAXFIA', 'UGUQOC', 'WOJZEA', 'BOTLUS', 'IZUVUV']\n"
     ]
    }
   ],
   "source": [
    "Test = pd.read_csv('test_data_30.csv')\n",
    "Test_filter = Test.fillna(method='ffill')\n",
    "\n",
    "X_test = scaler.transform(Test_filter.iloc[:,1:])\n",
    "#pred = clf.predict(X_test)\n",
    "\n",
    "probas = clf.predict_proba(X_test)\n",
    "top_n_predictions = np.argsort(probas, axis = 1)[:,-11:]\n",
    "\n",
    "result = []\n",
    "for pre in top_n_predictions:\n",
    "    pre_list = []\n",
    "    for index in pre:\n",
    "        pre_list.append(mapping[index])\n",
    "    result.append(pre_list)\n",
    "\n",
    "    \n",
    "for plist in result:\n",
    "    plist.reverse()\n",
    "    print(plist)"
   ]
  },
  {
   "cell_type": "code",
   "execution_count": 5,
   "metadata": {},
   "outputs": [
    {
     "name": "stdout",
     "output_type": "stream",
     "text": [
      "['JARMEU', 'BEWCUD', 'KUNTAQ02', 'RARBES', 'HIPZAJ']\n",
      "['JARMEU', 'BEWCUD', 'KUNTAQ02', 'RARBES', 'HIPZAJ']\n",
      "['JARMEU', 'BEWCUD', 'KUNTAQ02', 'RARBES', 'HIPZAJ']\n",
      "['HEGCEB', 'MARFIW', 'HIPZAJ', 'JARMEU', 'GADPOS']\n",
      "['HEGCEB', 'MARFIW', 'HIPZAJ', 'JARMEU', 'OGUTOA']\n",
      "['HEGCEB', 'MARFIW', 'HIPZAJ', 'JARMEU', 'DUT-12']\n",
      "['ZIF-8', 'XUGROI', 'LARDAL', 'FESBIQ', 'AXINAX01']\n",
      "['ZIF-8', 'XUGROI', 'IVESOS', 'LARDAL', 'FESBIQ']\n",
      "['QIJLAW', 'IVESOS', 'FESBIQ', 'XUGROI', 'KUNTAQ02']\n",
      "['ZIF-8', 'XUGROI', 'IVESOS', 'LARDAL', 'KUNTAQ02']\n",
      "['IVESOS', 'QIJLAW', 'XUGROI', 'ZIF-8', 'JEJWOL']\n",
      "['ZIF-8', 'XUGROI', 'LARDAL', 'AXINAX01', 'QIJLAW']\n",
      "['NODTEH', 'RARBES', 'OXALAB', 'AXINAX01', 'JARMEU']\n",
      "['JARMEU', 'RARBES', 'KUNTAQ02', 'HIPZAJ', 'BEWCUD']\n",
      "['JARMEU', 'KUNTAQ02', 'RARBES', 'AXINAX01', 'OXALAB']\n",
      "['HEGCEB', 'XAYMUF', 'ONESAC', 'GEWMOM', 'BOTLUS']\n",
      "['HEGCEB', 'HIPZAJ', 'RASGAT', 'NIMJUP', 'OGUTOA']\n",
      "['HEGCEB', 'XAYMUF', 'GIKJER', 'GEWMOM', 'HIPZAJ']\n",
      "['UGUQOC', 'LUYNAU', 'MIBQAR01', 'MAXFIA', 'KIDGOT']\n",
      "['MAXFIA', 'MOF-5', 'MIBQAR01', 'NAYJEE', 'XANXUF']\n",
      "['JOVXUP', 'JOKYIR10', 'JOKXEM10', 'UKAZEM', 'XAYMUF']\n",
      "['HOJJOH', 'QIJLAW', 'RAFRAS', 'REGREC', 'NAYJEE']\n",
      "['NAYJEE', 'RAFRAS', 'REGREC', 'MOF-199', 'VOZVAJ01']\n",
      "['RAFRAS', 'REGREC', 'NAYJEE', 'HOJJOH', 'VOZVAJ01']\n",
      "['NAYJEE', 'MOF-199', 'FALJEJ', 'BOTLUS', 'RAFRAS']\n",
      "['FALJEJ', 'NAYJEE', 'RIWGEL', 'VICJEY', 'BOTLUS']\n",
      "['FALJEJ', 'RIWGEL', 'NAYJEE', 'VICJEY', 'BOTLUS']\n",
      "['ONESAC', 'MUNXIC', 'PUTYEI', 'MOF-2', 'UGUQOC']\n",
      "['ONESAC', 'MUNXIC', 'PUTYEI', 'MOF-2', 'GIKJER']\n",
      "['ONESAC', 'MUNXIC', 'PUTYEI', 'MOF-2', 'GIKJER']\n"
     ]
    }
   ],
   "source": [
    "top_n_predictions = np.argsort(probas, axis = 1)[:,-5:]\n",
    "\n",
    "result = []\n",
    "for pre in top_n_predictions:\n",
    "    pre_list = []\n",
    "    for index in pre:\n",
    "        pre_list.append(mapping[index])\n",
    "    result.append(pre_list)\n",
    "\n",
    "    \n",
    "for plist in result:\n",
    "    plist.reverse()\n",
    "    print(plist)"
   ]
  },
  {
   "cell_type": "code",
   "execution_count": 6,
   "metadata": {},
   "outputs": [
    {
     "name": "stdout",
     "output_type": "stream",
     "text": [
      "top1 accuracy:0.06666666666666667\n",
      "2\n",
      "top2 accuracy:0.13333333333333333\n",
      "4\n",
      "top3 accuracy:0.13333333333333333\n",
      "4\n",
      "top4 accuracy:0.23333333333333334\n",
      "7\n",
      "top5 accuracy:0.23333333333333334\n",
      "7\n"
     ]
    }
   ],
   "source": [
    "for i in range(1,6):    \n",
    "    top_n_predictions = np.argsort(probas, axis = 1)[:,-i:]\n",
    "\n",
    "    result = []\n",
    "    for pre in top_n_predictions:\n",
    "        pre_list = []\n",
    "        for index in pre:\n",
    "            pre_list.append(mapping[index])\n",
    "        result.append(pre_list)\n",
    "\n",
    "    \n",
    "    count = 0\n",
    "    for p in result[:3]:\n",
    "        if 'ZIF-67' in p:\n",
    "            count += 1\n",
    "    for p in result[3:6]:\n",
    "        if 'ZIF-71' in p:\n",
    "            count += 1\n",
    "    for p in result[6:9]:\n",
    "        if 'ZIF-8' in p:\n",
    "            count += 1\n",
    "    for p in result[9:12]:\n",
    "        if 'ZIF-90' in p:\n",
    "            count += 1\n",
    "    for p in result[12:15]:\n",
    "        if 'ZIF-7' in p:\n",
    "            count += 1\n",
    "    for p in result[15:18]:\n",
    "        if 'ZIF-9' in p:\n",
    "            count += 1\n",
    "    for p in result[18:21]:\n",
    "        if 'MOF-5' in p:\n",
    "            count += 1\n",
    "    for p in result[21:24]:\n",
    "        if 'MOF-74' in p:\n",
    "            count += 1\n",
    "    for p in result[24:27]:\n",
    "        if 'MOF-199' in p:\n",
    "            count += 1\n",
    "    for p in result[27:30]:\n",
    "        if 'MOF-2' in p:\n",
    "            count += 1\n",
    "\n",
    "    accuracy = count/30\n",
    "    print('top' + str(i) + ' ' + 'accuracy:' +str(accuracy))\n",
    "    print(count)"
   ]
  },
  {
   "cell_type": "code",
   "execution_count": null,
   "metadata": {},
   "outputs": [],
   "source": []
  }
 ],
 "metadata": {
  "kernelspec": {
   "display_name": "Python 3",
   "language": "python",
   "name": "python3"
  },
  "language_info": {
   "codemirror_mode": {
    "name": "ipython",
    "version": 3
   },
   "file_extension": ".py",
   "mimetype": "text/x-python",
   "name": "python",
   "nbconvert_exporter": "python",
   "pygments_lexer": "ipython3",
   "version": "3.7.3"
  }
 },
 "nbformat": 4,
 "nbformat_minor": 2
}
